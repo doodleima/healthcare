{
 "cells": [
  {
   "cell_type": "code",
   "execution_count": 1,
   "metadata": {
    "execution": {
     "iopub.execute_input": "2021-09-10T01:15:55.623465Z",
     "iopub.status.busy": "2021-09-10T01:15:55.622979Z",
     "iopub.status.idle": "2021-09-10T01:15:55.834075Z",
     "shell.execute_reply": "2021-09-10T01:15:55.833306Z",
     "shell.execute_reply.started": "2021-09-10T01:15:55.623383Z"
    },
    "papermill": {
     "duration": 0.227148,
     "end_time": "2021-09-05T06:59:19.765816",
     "exception": false,
     "start_time": "2021-09-05T06:59:19.538668",
     "status": "completed"
    },
    "tags": []
   },
   "outputs": [],
   "source": [
    "import pandas as pd\n",
    "import numpy as np\n",
    "from glob import glob\n",
    "import os\n",
    "import cv2\n",
    "from PIL import Image"
   ]
  },
  {
   "cell_type": "code",
   "execution_count": 2,
   "metadata": {},
   "outputs": [],
   "source": [
    "DCM_PATH = ''\n",
    "PNG_PATH = ''\n",
    "MDL_PATH =  ''"
   ]
  },
  {
   "cell_type": "code",
   "execution_count": 3,
   "metadata": {
    "execution": {
     "iopub.execute_input": "2021-09-10T01:15:55.835822Z",
     "iopub.status.busy": "2021-09-10T01:15:55.835449Z",
     "iopub.status.idle": "2021-09-10T01:15:55.866323Z",
     "shell.execute_reply": "2021-09-10T01:15:55.865368Z",
     "shell.execute_reply.started": "2021-09-10T01:15:55.835785Z"
    },
    "papermill": {
     "duration": 0.042679,
     "end_time": "2021-09-05T06:59:19.819166",
     "exception": false,
     "start_time": "2021-09-05T06:59:19.776487",
     "status": "completed"
    },
    "tags": []
   },
   "outputs": [
    {
     "data": {
      "text/html": [
       "<div>\n",
       "<style scoped>\n",
       "    .dataframe tbody tr th:only-of-type {\n",
       "        vertical-align: middle;\n",
       "    }\n",
       "\n",
       "    .dataframe tbody tr th {\n",
       "        vertical-align: top;\n",
       "    }\n",
       "\n",
       "    .dataframe thead th {\n",
       "        text-align: right;\n",
       "    }\n",
       "</style>\n",
       "<table border=\"1\" class=\"dataframe\">\n",
       "  <thead>\n",
       "    <tr style=\"text-align: right;\">\n",
       "      <th></th>\n",
       "      <th>BraTS21ID</th>\n",
       "      <th>MGMT_value</th>\n",
       "    </tr>\n",
       "  </thead>\n",
       "  <tbody>\n",
       "    <tr>\n",
       "      <th>0</th>\n",
       "      <td>0</td>\n",
       "      <td>1</td>\n",
       "    </tr>\n",
       "    <tr>\n",
       "      <th>1</th>\n",
       "      <td>2</td>\n",
       "      <td>1</td>\n",
       "    </tr>\n",
       "    <tr>\n",
       "      <th>2</th>\n",
       "      <td>3</td>\n",
       "      <td>0</td>\n",
       "    </tr>\n",
       "    <tr>\n",
       "      <th>3</th>\n",
       "      <td>5</td>\n",
       "      <td>1</td>\n",
       "    </tr>\n",
       "    <tr>\n",
       "      <th>4</th>\n",
       "      <td>6</td>\n",
       "      <td>1</td>\n",
       "    </tr>\n",
       "    <tr>\n",
       "      <th>...</th>\n",
       "      <td>...</td>\n",
       "      <td>...</td>\n",
       "    </tr>\n",
       "    <tr>\n",
       "      <th>580</th>\n",
       "      <td>1005</td>\n",
       "      <td>1</td>\n",
       "    </tr>\n",
       "    <tr>\n",
       "      <th>581</th>\n",
       "      <td>1007</td>\n",
       "      <td>1</td>\n",
       "    </tr>\n",
       "    <tr>\n",
       "      <th>582</th>\n",
       "      <td>1008</td>\n",
       "      <td>1</td>\n",
       "    </tr>\n",
       "    <tr>\n",
       "      <th>583</th>\n",
       "      <td>1009</td>\n",
       "      <td>0</td>\n",
       "    </tr>\n",
       "    <tr>\n",
       "      <th>584</th>\n",
       "      <td>1010</td>\n",
       "      <td>0</td>\n",
       "    </tr>\n",
       "  </tbody>\n",
       "</table>\n",
       "<p>585 rows × 2 columns</p>\n",
       "</div>"
      ],
      "text/plain": [
       "     BraTS21ID  MGMT_value\n",
       "0            0           1\n",
       "1            2           1\n",
       "2            3           0\n",
       "3            5           1\n",
       "4            6           1\n",
       "..         ...         ...\n",
       "580       1005           1\n",
       "581       1007           1\n",
       "582       1008           1\n",
       "583       1009           0\n",
       "584       1010           0\n",
       "\n",
       "[585 rows x 2 columns]"
      ]
     },
     "execution_count": 3,
     "metadata": {},
     "output_type": "execute_result"
    }
   ],
   "source": [
    "# df = pd.read_csv('../input/rsna-miccai-brain-tumor-radiogenomic-classification/train_labels.csv')\n",
    "df = pd.read_csv(os.path.join(DCM_PATH, 'train_labels.csv'))\n",
    "df"
   ]
  },
  {
   "cell_type": "code",
   "execution_count": 4,
   "metadata": {
    "execution": {
     "iopub.execute_input": "2021-09-10T01:15:55.868759Z",
     "iopub.status.busy": "2021-09-10T01:15:55.868368Z",
     "iopub.status.idle": "2021-09-10T01:15:55.940057Z",
     "shell.execute_reply": "2021-09-10T01:15:55.939317Z",
     "shell.execute_reply.started": "2021-09-10T01:15:55.868724Z"
    },
    "papermill": {
     "duration": 0.091459,
     "end_time": "2021-09-05T06:59:19.92141",
     "exception": false,
     "start_time": "2021-09-05T06:59:19.829951",
     "status": "completed"
    },
    "tags": []
   },
   "outputs": [
    {
     "data": {
      "text/plain": [
       "['00000', '00002', '00003', '00005', '00006']"
      ]
     },
     "execution_count": 4,
     "metadata": {},
     "output_type": "execute_result"
    }
   ],
   "source": [
    "# data_dir = '../input/rsna-miccai-png/train'\n",
    "data_dir = os.path.join(PNG_PATH, 'train')\n",
    "patients = sorted(os.listdir(data_dir))\n",
    "patients[:5]"
   ]
  },
  {
   "cell_type": "code",
   "execution_count": 5,
   "metadata": {
    "execution": {
     "iopub.execute_input": "2021-09-10T01:15:55.943170Z",
     "iopub.status.busy": "2021-09-10T01:15:55.942912Z",
     "iopub.status.idle": "2021-09-10T01:15:55.961855Z",
     "shell.execute_reply": "2021-09-10T01:15:55.961018Z",
     "shell.execute_reply.started": "2021-09-10T01:15:55.943135Z"
    },
    "papermill": {
     "duration": 0.034471,
     "end_time": "2021-09-05T06:59:19.966862",
     "exception": false,
     "start_time": "2021-09-05T06:59:19.932391",
     "status": "completed"
    },
    "tags": []
   },
   "outputs": [
    {
     "data": {
      "text/plain": [
       "['00001', '00013', '00015', '00027', '00037']"
      ]
     },
     "execution_count": 5,
     "metadata": {},
     "output_type": "execute_result"
    }
   ],
   "source": [
    "# data_dir = '../input/rsna-miccai-png/test'\n",
    "data_dir = os.path.join(PNG_PATH, 'test')\n",
    "patients_test = sorted(os.listdir(data_dir))\n",
    "patients_test[:5]"
   ]
  },
  {
   "cell_type": "code",
   "execution_count": 6,
   "metadata": {
    "execution": {
     "iopub.execute_input": "2021-09-10T01:15:55.964803Z",
     "iopub.status.busy": "2021-09-10T01:15:55.964542Z",
     "iopub.status.idle": "2021-09-10T01:15:55.974261Z",
     "shell.execute_reply": "2021-09-10T01:15:55.973461Z",
     "shell.execute_reply.started": "2021-09-10T01:15:55.964779Z"
    },
    "papermill": {
     "duration": 0.02055,
     "end_time": "2021-09-05T06:59:19.998932",
     "exception": false,
     "start_time": "2021-09-05T06:59:19.978382",
     "status": "completed"
    },
    "tags": []
   },
   "outputs": [
    {
     "data": {
      "text/plain": [
       "[0, 2, 3, 5, 6]"
      ]
     },
     "execution_count": 6,
     "metadata": {},
     "output_type": "execute_result"
    }
   ],
   "source": [
    "id = []\n",
    "for i in patients:\n",
    "    id.append(int(i))\n",
    "id[:5]"
   ]
  },
  {
   "cell_type": "code",
   "execution_count": 7,
   "metadata": {
    "execution": {
     "iopub.execute_input": "2021-09-10T01:15:55.977821Z",
     "iopub.status.busy": "2021-09-10T01:15:55.977573Z",
     "iopub.status.idle": "2021-09-10T01:16:09.204740Z",
     "shell.execute_reply": "2021-09-10T01:16:09.203786Z",
     "shell.execute_reply.started": "2021-09-10T01:15:55.977798Z"
    },
    "papermill": {
     "duration": 6.820495,
     "end_time": "2021-09-05T06:59:26.830529",
     "exception": false,
     "start_time": "2021-09-05T06:59:20.010034",
     "status": "completed"
    },
    "tags": []
   },
   "outputs": [
    {
     "data": {
      "text/html": [
       "<div>\n",
       "<style scoped>\n",
       "    .dataframe tbody tr th:only-of-type {\n",
       "        vertical-align: middle;\n",
       "    }\n",
       "\n",
       "    .dataframe tbody tr th {\n",
       "        vertical-align: top;\n",
       "    }\n",
       "\n",
       "    .dataframe thead th {\n",
       "        text-align: right;\n",
       "    }\n",
       "</style>\n",
       "<table border=\"1\" class=\"dataframe\">\n",
       "  <thead>\n",
       "    <tr style=\"text-align: right;\">\n",
       "      <th></th>\n",
       "      <th>path</th>\n",
       "      <th>label</th>\n",
       "    </tr>\n",
       "  </thead>\n",
       "  <tbody>\n",
       "    <tr>\n",
       "      <th>0</th>\n",
       "      <td>/mnt/nas03/RSNA_2021/Brain_Tumor_Classificatio...</td>\n",
       "      <td>1</td>\n",
       "    </tr>\n",
       "    <tr>\n",
       "      <th>1</th>\n",
       "      <td>/mnt/nas03/RSNA_2021/Brain_Tumor_Classificatio...</td>\n",
       "      <td>1</td>\n",
       "    </tr>\n",
       "    <tr>\n",
       "      <th>2</th>\n",
       "      <td>/mnt/nas03/RSNA_2021/Brain_Tumor_Classificatio...</td>\n",
       "      <td>1</td>\n",
       "    </tr>\n",
       "    <tr>\n",
       "      <th>3</th>\n",
       "      <td>/mnt/nas03/RSNA_2021/Brain_Tumor_Classificatio...</td>\n",
       "      <td>1</td>\n",
       "    </tr>\n",
       "    <tr>\n",
       "      <th>4</th>\n",
       "      <td>/mnt/nas03/RSNA_2021/Brain_Tumor_Classificatio...</td>\n",
       "      <td>1</td>\n",
       "    </tr>\n",
       "    <tr>\n",
       "      <th>...</th>\n",
       "      <td>...</td>\n",
       "      <td>...</td>\n",
       "    </tr>\n",
       "    <tr>\n",
       "      <th>53677</th>\n",
       "      <td>/mnt/nas03/RSNA_2021/Brain_Tumor_Classificatio...</td>\n",
       "      <td>0</td>\n",
       "    </tr>\n",
       "    <tr>\n",
       "      <th>53678</th>\n",
       "      <td>/mnt/nas03/RSNA_2021/Brain_Tumor_Classificatio...</td>\n",
       "      <td>0</td>\n",
       "    </tr>\n",
       "    <tr>\n",
       "      <th>53679</th>\n",
       "      <td>/mnt/nas03/RSNA_2021/Brain_Tumor_Classificatio...</td>\n",
       "      <td>0</td>\n",
       "    </tr>\n",
       "    <tr>\n",
       "      <th>53680</th>\n",
       "      <td>/mnt/nas03/RSNA_2021/Brain_Tumor_Classificatio...</td>\n",
       "      <td>0</td>\n",
       "    </tr>\n",
       "    <tr>\n",
       "      <th>53681</th>\n",
       "      <td>/mnt/nas03/RSNA_2021/Brain_Tumor_Classificatio...</td>\n",
       "      <td>0</td>\n",
       "    </tr>\n",
       "  </tbody>\n",
       "</table>\n",
       "<p>53682 rows × 2 columns</p>\n",
       "</div>"
      ],
      "text/plain": [
       "                                                    path label\n",
       "0      /mnt/nas03/RSNA_2021/Brain_Tumor_Classificatio...     1\n",
       "1      /mnt/nas03/RSNA_2021/Brain_Tumor_Classificatio...     1\n",
       "2      /mnt/nas03/RSNA_2021/Brain_Tumor_Classificatio...     1\n",
       "3      /mnt/nas03/RSNA_2021/Brain_Tumor_Classificatio...     1\n",
       "4      /mnt/nas03/RSNA_2021/Brain_Tumor_Classificatio...     1\n",
       "...                                                  ...   ...\n",
       "53677  /mnt/nas03/RSNA_2021/Brain_Tumor_Classificatio...     0\n",
       "53678  /mnt/nas03/RSNA_2021/Brain_Tumor_Classificatio...     0\n",
       "53679  /mnt/nas03/RSNA_2021/Brain_Tumor_Classificatio...     0\n",
       "53680  /mnt/nas03/RSNA_2021/Brain_Tumor_Classificatio...     0\n",
       "53681  /mnt/nas03/RSNA_2021/Brain_Tumor_Classificatio...     0\n",
       "\n",
       "[53682 rows x 2 columns]"
      ]
     },
     "execution_count": 7,
     "metadata": {},
     "output_type": "execute_result"
    }
   ],
   "source": [
    "train_dataset = pd.DataFrame({'path' : glob(os.path.join(PNG_PATH, 'train/00000/FLAIR/*.png')),\n",
    "                              'label' : 1})\n",
    "\n",
    "for i, patient in enumerate(patients[1:]):\n",
    "    data_slice = pd.DataFrame({'path' : glob(os.path.join(PNG_PATH, 'train/' + patient +'/FLAIR/*.png')),\n",
    "                               'label' : df['MGMT_value'][i+1]})\n",
    "    train_dataset = pd.concat([train_dataset, data_slice])\n",
    "    \n",
    "train_dataset = train_dataset.reset_index(drop = True)\n",
    "train_dataset['label'] = train_dataset['label'].astype(str)\n",
    "train_dataset"
   ]
  },
  {
   "cell_type": "code",
   "execution_count": 8,
   "metadata": {
    "execution": {
     "iopub.execute_input": "2021-09-10T01:16:09.207645Z",
     "iopub.status.busy": "2021-09-10T01:16:09.207390Z",
     "iopub.status.idle": "2021-09-10T01:16:12.381628Z",
     "shell.execute_reply": "2021-09-10T01:16:12.380818Z",
     "shell.execute_reply.started": "2021-09-10T01:16:09.207620Z"
    },
    "papermill": {
     "duration": 1.147329,
     "end_time": "2021-09-05T06:59:27.990369",
     "exception": false,
     "start_time": "2021-09-05T06:59:26.84304",
     "status": "completed"
    },
    "tags": []
   },
   "outputs": [
    {
     "data": {
      "text/html": [
       "<div>\n",
       "<style scoped>\n",
       "    .dataframe tbody tr th:only-of-type {\n",
       "        vertical-align: middle;\n",
       "    }\n",
       "\n",
       "    .dataframe tbody tr th {\n",
       "        vertical-align: top;\n",
       "    }\n",
       "\n",
       "    .dataframe thead th {\n",
       "        text-align: right;\n",
       "    }\n",
       "</style>\n",
       "<table border=\"1\" class=\"dataframe\">\n",
       "  <thead>\n",
       "    <tr style=\"text-align: right;\">\n",
       "      <th></th>\n",
       "      <th>path</th>\n",
       "    </tr>\n",
       "  </thead>\n",
       "  <tbody>\n",
       "    <tr>\n",
       "      <th>0</th>\n",
       "      <td>/mnt/nas03/RSNA_2021/Brain_Tumor_Classificatio...</td>\n",
       "    </tr>\n",
       "    <tr>\n",
       "      <th>1</th>\n",
       "      <td>/mnt/nas03/RSNA_2021/Brain_Tumor_Classificatio...</td>\n",
       "    </tr>\n",
       "    <tr>\n",
       "      <th>2</th>\n",
       "      <td>/mnt/nas03/RSNA_2021/Brain_Tumor_Classificatio...</td>\n",
       "    </tr>\n",
       "    <tr>\n",
       "      <th>3</th>\n",
       "      <td>/mnt/nas03/RSNA_2021/Brain_Tumor_Classificatio...</td>\n",
       "    </tr>\n",
       "    <tr>\n",
       "      <th>4</th>\n",
       "      <td>/mnt/nas03/RSNA_2021/Brain_Tumor_Classificatio...</td>\n",
       "    </tr>\n",
       "    <tr>\n",
       "      <th>...</th>\n",
       "      <td>...</td>\n",
       "    </tr>\n",
       "    <tr>\n",
       "      <th>7921</th>\n",
       "      <td>/mnt/nas03/RSNA_2021/Brain_Tumor_Classificatio...</td>\n",
       "    </tr>\n",
       "    <tr>\n",
       "      <th>7922</th>\n",
       "      <td>/mnt/nas03/RSNA_2021/Brain_Tumor_Classificatio...</td>\n",
       "    </tr>\n",
       "    <tr>\n",
       "      <th>7923</th>\n",
       "      <td>/mnt/nas03/RSNA_2021/Brain_Tumor_Classificatio...</td>\n",
       "    </tr>\n",
       "    <tr>\n",
       "      <th>7924</th>\n",
       "      <td>/mnt/nas03/RSNA_2021/Brain_Tumor_Classificatio...</td>\n",
       "    </tr>\n",
       "    <tr>\n",
       "      <th>7925</th>\n",
       "      <td>/mnt/nas03/RSNA_2021/Brain_Tumor_Classificatio...</td>\n",
       "    </tr>\n",
       "  </tbody>\n",
       "</table>\n",
       "<p>7926 rows × 1 columns</p>\n",
       "</div>"
      ],
      "text/plain": [
       "                                                   path\n",
       "0     /mnt/nas03/RSNA_2021/Brain_Tumor_Classificatio...\n",
       "1     /mnt/nas03/RSNA_2021/Brain_Tumor_Classificatio...\n",
       "2     /mnt/nas03/RSNA_2021/Brain_Tumor_Classificatio...\n",
       "3     /mnt/nas03/RSNA_2021/Brain_Tumor_Classificatio...\n",
       "4     /mnt/nas03/RSNA_2021/Brain_Tumor_Classificatio...\n",
       "...                                                 ...\n",
       "7921  /mnt/nas03/RSNA_2021/Brain_Tumor_Classificatio...\n",
       "7922  /mnt/nas03/RSNA_2021/Brain_Tumor_Classificatio...\n",
       "7923  /mnt/nas03/RSNA_2021/Brain_Tumor_Classificatio...\n",
       "7924  /mnt/nas03/RSNA_2021/Brain_Tumor_Classificatio...\n",
       "7925  /mnt/nas03/RSNA_2021/Brain_Tumor_Classificatio...\n",
       "\n",
       "[7926 rows x 1 columns]"
      ]
     },
     "execution_count": 8,
     "metadata": {},
     "output_type": "execute_result"
    }
   ],
   "source": [
    "test_dataset = pd.DataFrame({'path' : glob(os.path.join(PNG_PATH, 'test/00001/FLAIR/*.png'))})\n",
    "\n",
    "for i, patient in enumerate(patients_test[1:]):\n",
    "    data_slice = pd.DataFrame({'path' : glob(os.path.join(PNG_PATH, 'test/' + patient +'/FLAIR/*.png'))})\n",
    "    test_dataset = pd.concat([test_dataset, data_slice])\n",
    "    \n",
    "test_dataset = test_dataset.reset_index(drop = True)\n",
    "\n",
    "test_dataset"
   ]
  },
  {
   "cell_type": "code",
   "execution_count": 9,
   "metadata": {
    "execution": {
     "iopub.execute_input": "2021-09-10T01:16:12.384745Z",
     "iopub.status.busy": "2021-09-10T01:16:12.384128Z",
     "iopub.status.idle": "2021-09-10T01:16:13.228213Z",
     "shell.execute_reply": "2021-09-10T01:16:13.227257Z",
     "shell.execute_reply.started": "2021-09-10T01:16:12.384705Z"
    },
    "papermill": {
     "duration": 0.89613,
     "end_time": "2021-09-05T06:59:28.898945",
     "exception": false,
     "start_time": "2021-09-05T06:59:28.002815",
     "status": "completed"
    },
    "tags": []
   },
   "outputs": [],
   "source": [
    "from sklearn.model_selection import train_test_split\n",
    "\n",
    "x_train, x_valid = train_test_split(train_dataset, stratify = train_dataset['label'], random_state = 42, test_size = 0.2)"
   ]
  },
  {
   "cell_type": "code",
   "execution_count": 10,
   "metadata": {
    "execution": {
     "iopub.execute_input": "2021-09-10T01:16:13.230449Z",
     "iopub.status.busy": "2021-09-10T01:16:13.230041Z"
    },
    "papermill": {
     "duration": 518.304114,
     "end_time": "2021-09-05T07:08:07.21561",
     "exception": false,
     "start_time": "2021-09-05T06:59:28.911496",
     "status": "completed"
    },
    "tags": []
   },
   "outputs": [
    {
     "name": "stdout",
     "output_type": "stream",
     "text": [
      "Found 42945 validated image filenames belonging to 2 classes.\n",
      "Found 10737 validated image filenames belonging to 2 classes.\n",
      "672/672 [==============================] - 108s 153ms/step - loss: 0.6267 - acc: 0.6398 - val_loss: 0.6365 - val_acc: 0.6127\n",
      "Found 7926 validated image filenames.\n",
      "124/124 [==============================] - 6s 43ms/step\n"
     ]
    }
   ],
   "source": [
    "from keras.preprocessing.image import ImageDataGenerator\n",
    "\n",
    "from keras import *\n",
    "from keras.layers import *\n",
    "from tensorflow.keras.applications import EfficientNetB0\n",
    "from keras.callbacks import *\n",
    "\n",
    "idg = ImageDataGenerator(horizontal_flip = True)\n",
    "idg2 = ImageDataGenerator()\n",
    "\n",
    "train_dataset = idg.flow_from_dataframe(x_train, x_col = 'path', y_col = 'label', target_size=(150, 150), batch_size = 64)\n",
    "valid_dataset = idg2.flow_from_dataframe(x_valid, x_col = 'path', y_col = 'label', target_size=(150, 150), batch_size = 64)\n",
    "\n",
    "efn = EfficientNetB0(include_top = False, pooling = 'avg', input_shape=(150, 150, 3),\n",
    "                     weights='')\n",
    "\n",
    "es = EarlyStopping(patience = 2, restore_best_weights = True)\n",
    "rl = ReduceLROnPlateau(patience = 1, factor = 0.2, verbose = 1)\n",
    "\n",
    "model = Sequential()\n",
    "model.add(efn)\n",
    "model.add(Dense(2, activation = 'softmax'))\n",
    "\n",
    "model.compile(metrics = ['acc'], loss = 'categorical_crossentropy', optimizer = 'adam')\n",
    "\n",
    "model.fit(train_dataset, validation_data = valid_dataset, epochs = 1, callbacks = [es, rl])\n",
    "\n",
    "test_generator = idg2.flow_from_dataframe(test_dataset, x_col = 'path', y_col = None, target_size = (150, 150), batch_size = 64, class_mode = None, shuffle = False)\n",
    "\n",
    "result = model.predict(test_generator, verbose = True, workers = 2)"
   ]
  },
  {
   "cell_type": "code",
   "execution_count": 11,
   "metadata": {
    "papermill": {
     "duration": 0.677873,
     "end_time": "2021-09-05T07:08:08.495733",
     "exception": false,
     "start_time": "2021-09-05T07:08:07.81786",
     "status": "completed"
    },
    "tags": []
   },
   "outputs": [
    {
     "data": {
      "text/plain": [
       "array([[0.5855852 , 0.41441482],\n",
       "       [0.6660884 , 0.33391166],\n",
       "       [0.70057404, 0.2994259 ],\n",
       "       ...,\n",
       "       [0.6799016 , 0.3200984 ],\n",
       "       [0.6711853 , 0.32881466],\n",
       "       [0.74973595, 0.25026405]], dtype=float32)"
      ]
     },
     "execution_count": 11,
     "metadata": {},
     "output_type": "execute_result"
    }
   ],
   "source": [
    "result"
   ]
  },
  {
   "cell_type": "code",
   "execution_count": 12,
   "metadata": {
    "papermill": {
     "duration": 0.504398,
     "end_time": "2021-09-05T07:08:09.460284",
     "exception": false,
     "start_time": "2021-09-05T07:08:08.955886",
     "status": "completed"
    },
    "tags": []
   },
   "outputs": [
    {
     "data": {
      "text/plain": [
       "[0.42804718017578125,\n",
       " 0.30819189889090404,\n",
       " 0.441809786690606,\n",
       " 0.5116830883604108,\n",
       " 0.3714850519744443,\n",
       " 0.5151924505466368,\n",
       " 0.4618559413486057,\n",
       " 0.4106723221716602,\n",
       " 0.5118388654498444,\n",
       " 0.5300032021342844,\n",
       " 0.37083864212036133,\n",
       " 0.3464262882868449,\n",
       " 0.3770566213698614,\n",
       " 0.40990141459873747,\n",
       " 0.40412613323756624,\n",
       " 0.3641828190196644,\n",
       " 0.3765393037062425,\n",
       " 0.43517157610724955,\n",
       " 0.40386204097581946,\n",
       " 0.4608940124511719,\n",
       " 0.39348487854003905,\n",
       " 0.3432445526123047,\n",
       " 0.4231462097167969,\n",
       " 0.38117655118306476,\n",
       " 0.3827667642146983,\n",
       " 0.4740547339121501,\n",
       " 0.38330674171447754,\n",
       " 0.4315720848415209,\n",
       " 0.3920371386469627,\n",
       " 0.34736436063593085,\n",
       " 0.45054986741807723,\n",
       " 0.36032748222351074,\n",
       " 0.3826110109369806,\n",
       " 0.42780563354492185,\n",
       " 0.3522523520649343,\n",
       " 0.38426407708062066,\n",
       " 0.3810793694029463,\n",
       " 0.45603967220225233,\n",
       " 0.3988810181617737,\n",
       " 0.43123793601989746,\n",
       " 0.4569863712086397,\n",
       " 0.3801081231299867,\n",
       " 0.4243117799150183,\n",
       " 0.42280209318120426,\n",
       " 0.4154274410671658,\n",
       " 0.3972301897795304,\n",
       " 0.4030013656616211,\n",
       " 0.36769287674515333,\n",
       " 0.4421858560471308,\n",
       " 0.6757906711462772,\n",
       " 0.5431000558953536,\n",
       " 0.3513326230256454,\n",
       " 0.4168688543911638,\n",
       " 0.7947666245018876,\n",
       " 0.8168708256312779,\n",
       " 0.49149436691180376,\n",
       " 0.6645181555497018,\n",
       " 0.3986755470176796,\n",
       " 0.5450360715601368,\n",
       " 0.44661807356209593,\n",
       " 0.373607873916626,\n",
       " 0.4174377653333876,\n",
       " 0.4366553762684698,\n",
       " 0.4080512675833195,\n",
       " 0.5115954081217448,\n",
       " 0.4889489965501174,\n",
       " 0.482238021551394,\n",
       " 0.7424731092388127,\n",
       " 0.650531155246121,\n",
       " 0.44426283965239655,\n",
       " 0.5282264355792116,\n",
       " 0.5326781378851997,\n",
       " 0.687420351285461,\n",
       " 0.4950529479980469,\n",
       " 0.45291689822548314,\n",
       " 0.7252351822391633,\n",
       " 0.4354084444717622,\n",
       " 0.4812582288469587,\n",
       " 0.5361855872591635,\n",
       " 0.4476214599609375,\n",
       " 0.39248809814453123,\n",
       " 0.41726069980197483,\n",
       " 0.4669025739034017,\n",
       " 0.5116076866785685,\n",
       " 0.44248048464457196,\n",
       " 0.36885325113932294,\n",
       " 0.4029286594714149]"
      ]
     },
     "execution_count": 12,
     "metadata": {},
     "output_type": "execute_result"
    }
   ],
   "source": [
    "final_result = []\n",
    "i = 0\n",
    "for patient in patients_test:\n",
    "    length = len(glob(os.path.join(PNG_PATH, 'test/' + patient +'/FLAIR/*.png')))\n",
    "    final_result.append(result[i:i+length, 1].sum()/length)\n",
    "    i += length\n",
    "    \n",
    "final_result"
   ]
  },
  {
   "cell_type": "code",
   "execution_count": 13,
   "metadata": {
    "papermill": {
     "duration": 0.418429,
     "end_time": "2021-09-05T07:08:10.279932",
     "exception": false,
     "start_time": "2021-09-05T07:08:09.861503",
     "status": "completed"
    },
    "tags": []
   },
   "outputs": [
    {
     "data": {
      "text/html": [
       "<div>\n",
       "<style scoped>\n",
       "    .dataframe tbody tr th:only-of-type {\n",
       "        vertical-align: middle;\n",
       "    }\n",
       "\n",
       "    .dataframe tbody tr th {\n",
       "        vertical-align: top;\n",
       "    }\n",
       "\n",
       "    .dataframe thead th {\n",
       "        text-align: right;\n",
       "    }\n",
       "</style>\n",
       "<table border=\"1\" class=\"dataframe\">\n",
       "  <thead>\n",
       "    <tr style=\"text-align: right;\">\n",
       "      <th></th>\n",
       "      <th>MGMT_value</th>\n",
       "    </tr>\n",
       "    <tr>\n",
       "      <th>BraTS21ID</th>\n",
       "      <th></th>\n",
       "    </tr>\n",
       "  </thead>\n",
       "  <tbody>\n",
       "    <tr>\n",
       "      <th>1</th>\n",
       "      <td>0.5</td>\n",
       "    </tr>\n",
       "    <tr>\n",
       "      <th>13</th>\n",
       "      <td>0.5</td>\n",
       "    </tr>\n",
       "    <tr>\n",
       "      <th>15</th>\n",
       "      <td>0.5</td>\n",
       "    </tr>\n",
       "    <tr>\n",
       "      <th>27</th>\n",
       "      <td>0.5</td>\n",
       "    </tr>\n",
       "    <tr>\n",
       "      <th>37</th>\n",
       "      <td>0.5</td>\n",
       "    </tr>\n",
       "    <tr>\n",
       "      <th>...</th>\n",
       "      <td>...</td>\n",
       "    </tr>\n",
       "    <tr>\n",
       "      <th>826</th>\n",
       "      <td>0.5</td>\n",
       "    </tr>\n",
       "    <tr>\n",
       "      <th>829</th>\n",
       "      <td>0.5</td>\n",
       "    </tr>\n",
       "    <tr>\n",
       "      <th>833</th>\n",
       "      <td>0.5</td>\n",
       "    </tr>\n",
       "    <tr>\n",
       "      <th>997</th>\n",
       "      <td>0.5</td>\n",
       "    </tr>\n",
       "    <tr>\n",
       "      <th>1006</th>\n",
       "      <td>0.5</td>\n",
       "    </tr>\n",
       "  </tbody>\n",
       "</table>\n",
       "<p>87 rows × 1 columns</p>\n",
       "</div>"
      ],
      "text/plain": [
       "           MGMT_value\n",
       "BraTS21ID            \n",
       "1                 0.5\n",
       "13                0.5\n",
       "15                0.5\n",
       "27                0.5\n",
       "37                0.5\n",
       "...               ...\n",
       "826               0.5\n",
       "829               0.5\n",
       "833               0.5\n",
       "997               0.5\n",
       "1006              0.5\n",
       "\n",
       "[87 rows x 1 columns]"
      ]
     },
     "execution_count": 13,
     "metadata": {},
     "output_type": "execute_result"
    }
   ],
   "source": [
    "test = pd.read_csv(os.path.join(DCM_PATH, \"sample_submission.csv\"), index_col=\"BraTS21ID\")\n",
    "test"
   ]
  },
  {
   "cell_type": "code",
   "execution_count": 14,
   "metadata": {},
   "outputs": [],
   "source": [
    "test['MGMT_value'] = final_result"
   ]
  },
  {
   "cell_type": "code",
   "execution_count": 15,
   "metadata": {},
   "outputs": [],
   "source": [
    "test[\"MGMT_value\"].to_csv(\"submission.csv\")"
   ]
  },
  {
   "cell_type": "code",
   "execution_count": 18,
   "metadata": {},
   "outputs": [
    {
     "data": {
      "text/html": [
       "<div>\n",
       "<style scoped>\n",
       "    .dataframe tbody tr th:only-of-type {\n",
       "        vertical-align: middle;\n",
       "    }\n",
       "\n",
       "    .dataframe tbody tr th {\n",
       "        vertical-align: top;\n",
       "    }\n",
       "\n",
       "    .dataframe thead th {\n",
       "        text-align: right;\n",
       "    }\n",
       "</style>\n",
       "<table border=\"1\" class=\"dataframe\">\n",
       "  <thead>\n",
       "    <tr style=\"text-align: right;\">\n",
       "      <th></th>\n",
       "      <th>MGMT_value</th>\n",
       "    </tr>\n",
       "    <tr>\n",
       "      <th>BraTS21ID</th>\n",
       "      <th></th>\n",
       "    </tr>\n",
       "  </thead>\n",
       "  <tbody>\n",
       "    <tr>\n",
       "      <th>1</th>\n",
       "      <td>0.428047</td>\n",
       "    </tr>\n",
       "    <tr>\n",
       "      <th>13</th>\n",
       "      <td>0.308192</td>\n",
       "    </tr>\n",
       "    <tr>\n",
       "      <th>15</th>\n",
       "      <td>0.441810</td>\n",
       "    </tr>\n",
       "    <tr>\n",
       "      <th>27</th>\n",
       "      <td>0.511683</td>\n",
       "    </tr>\n",
       "    <tr>\n",
       "      <th>37</th>\n",
       "      <td>0.371485</td>\n",
       "    </tr>\n",
       "  </tbody>\n",
       "</table>\n",
       "</div>"
      ],
      "text/plain": [
       "           MGMT_value\n",
       "BraTS21ID            \n",
       "1            0.428047\n",
       "13           0.308192\n",
       "15           0.441810\n",
       "27           0.511683\n",
       "37           0.371485"
      ]
     },
     "execution_count": 18,
     "metadata": {},
     "output_type": "execute_result"
    }
   ],
   "source": [
    "test.head()"
   ]
  }
 ],
 "metadata": {
  "interpreter": {
   "hash": "fdca76a7817565cf578347e6345126a50c9b7200a446f007b628a4f356ec8033"
  },
  "kernelspec": {
   "display_name": "Python 3",
   "language": "python",
   "name": "python3"
  },
  "language_info": {
   "codemirror_mode": {
    "name": "ipython",
    "version": 3
   },
   "file_extension": ".py",
   "mimetype": "text/x-python",
   "name": "python",
   "nbconvert_exporter": "python",
   "pygments_lexer": "ipython3",
   "version": "3.8.5"
  }
 },
 "nbformat": 4,
 "nbformat_minor": 4
}
